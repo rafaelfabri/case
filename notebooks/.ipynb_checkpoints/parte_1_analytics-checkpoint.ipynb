{
 "cells": [
  {
   "cell_type": "code",
   "execution_count": 72,
   "id": "1cc3e1f8-fe06-45dc-9021-7b774dcff029",
   "metadata": {},
   "outputs": [],
   "source": [
    "import pandas as pd\n",
    "import seaborn as sns\n",
    "import matplotlib.pyplot as plt"
   ]
  },
  {
   "cell_type": "code",
   "execution_count": 4,
   "id": "930c14ea-a1f8-4b0f-8c9c-543b9dd803a6",
   "metadata": {},
   "outputs": [],
   "source": [
    "df = pd.read_csv('/home/rafaelfabrichimidt/Documentos/Projetos/Python/codigos/case/analytics_engineer_carrefour/tutorial/CASE_PRATICO_SAMS_CLUB.csv')"
   ]
  },
  {
   "cell_type": "code",
   "execution_count": 6,
   "id": "5acb8caf-60cb-4871-be74-16b47538b8bb",
   "metadata": {},
   "outputs": [
    {
     "name": "stdout",
     "output_type": "stream",
     "text": [
      "Qtd de linhas =  878596\n",
      "Qtd de colunas =  11\n"
     ]
    }
   ],
   "source": [
    "print('Qtd de linhas = ', df.shape[0])\n",
    "print('Qtd de colunas = ', df.shape[1])"
   ]
  },
  {
   "cell_type": "code",
   "execution_count": 7,
   "id": "97233c83-f5b5-425a-847c-1bcf96727941",
   "metadata": {},
   "outputs": [
    {
     "data": {
      "text/html": [
       "<div>\n",
       "<style scoped>\n",
       "    .dataframe tbody tr th:only-of-type {\n",
       "        vertical-align: middle;\n",
       "    }\n",
       "\n",
       "    .dataframe tbody tr th {\n",
       "        vertical-align: top;\n",
       "    }\n",
       "\n",
       "    .dataframe thead th {\n",
       "        text-align: right;\n",
       "    }\n",
       "</style>\n",
       "<table border=\"1\" class=\"dataframe\">\n",
       "  <thead>\n",
       "    <tr style=\"text-align: right;\">\n",
       "      <th></th>\n",
       "      <th>periodo</th>\n",
       "      <th>id_clube</th>\n",
       "      <th>socio</th>\n",
       "      <th>canal</th>\n",
       "      <th>ticket</th>\n",
       "      <th>departamento</th>\n",
       "      <th>item_id</th>\n",
       "      <th>item_descricao</th>\n",
       "      <th>item_unidade</th>\n",
       "      <th>receita_bruta</th>\n",
       "      <th>margem</th>\n",
       "    </tr>\n",
       "  </thead>\n",
       "  <tbody>\n",
       "    <tr>\n",
       "      <th>0</th>\n",
       "      <td>2022-01-10</td>\n",
       "      <td>5235</td>\n",
       "      <td>45765100809381908</td>\n",
       "      <td>PISO</td>\n",
       "      <td>4576510080938190820220110</td>\n",
       "      <td>BAZAR E TÊXTIL</td>\n",
       "      <td>1259475</td>\n",
       "      <td>CALCAO</td>\n",
       "      <td>2</td>\n",
       "      <td>81.17</td>\n",
       "      <td>22.43</td>\n",
       "    </tr>\n",
       "    <tr>\n",
       "      <th>1</th>\n",
       "      <td>2022-01-10</td>\n",
       "      <td>5235</td>\n",
       "      <td>45766100903265726</td>\n",
       "      <td>PISO</td>\n",
       "      <td>4576610090326572620220110</td>\n",
       "      <td>BAZAR E TÊXTIL</td>\n",
       "      <td>1259475</td>\n",
       "      <td>CALCAO</td>\n",
       "      <td>1</td>\n",
       "      <td>41.27</td>\n",
       "      <td>11.90</td>\n",
       "    </tr>\n",
       "    <tr>\n",
       "      <th>2</th>\n",
       "      <td>2022-01-10</td>\n",
       "      <td>5235</td>\n",
       "      <td>45765100815078019</td>\n",
       "      <td>PISO</td>\n",
       "      <td>4576510081507801920220110</td>\n",
       "      <td>BAZAR E TÊXTIL</td>\n",
       "      <td>1225017</td>\n",
       "      <td>CHAPEU PRAIA</td>\n",
       "      <td>1</td>\n",
       "      <td>51.27</td>\n",
       "      <td>11.10</td>\n",
       "    </tr>\n",
       "    <tr>\n",
       "      <th>3</th>\n",
       "      <td>2022-01-10</td>\n",
       "      <td>5235</td>\n",
       "      <td>45766100904345030</td>\n",
       "      <td>PISO</td>\n",
       "      <td>4576610090434503020220110</td>\n",
       "      <td>BAZAR E TÊXTIL</td>\n",
       "      <td>1216504</td>\n",
       "      <td>BANCO DOBRAVEL</td>\n",
       "      <td>1</td>\n",
       "      <td>81.34</td>\n",
       "      <td>22.93</td>\n",
       "    </tr>\n",
       "    <tr>\n",
       "      <th>4</th>\n",
       "      <td>2022-01-10</td>\n",
       "      <td>5235</td>\n",
       "      <td>45766100903286284</td>\n",
       "      <td>PISO</td>\n",
       "      <td>4576610090328628420220110</td>\n",
       "      <td>BAZAR E TÊXTIL</td>\n",
       "      <td>1259473</td>\n",
       "      <td>BERMUDA MOLETOM</td>\n",
       "      <td>2</td>\n",
       "      <td>201.17</td>\n",
       "      <td>46.37</td>\n",
       "    </tr>\n",
       "  </tbody>\n",
       "</table>\n",
       "</div>"
      ],
      "text/plain": [
       "      periodo  id_clube              socio canal                     ticket  \\\n",
       "0  2022-01-10      5235  45765100809381908  PISO  4576510080938190820220110   \n",
       "1  2022-01-10      5235  45766100903265726  PISO  4576610090326572620220110   \n",
       "2  2022-01-10      5235  45765100815078019  PISO  4576510081507801920220110   \n",
       "3  2022-01-10      5235  45766100904345030  PISO  4576610090434503020220110   \n",
       "4  2022-01-10      5235  45766100903286284  PISO  4576610090328628420220110   \n",
       "\n",
       "     departamento  item_id   item_descricao  item_unidade  receita_bruta  \\\n",
       "0  BAZAR E TÊXTIL  1259475           CALCAO             2          81.17   \n",
       "1  BAZAR E TÊXTIL  1259475           CALCAO             1          41.27   \n",
       "2  BAZAR E TÊXTIL  1225017     CHAPEU PRAIA             1          51.27   \n",
       "3  BAZAR E TÊXTIL  1216504   BANCO DOBRAVEL             1          81.34   \n",
       "4  BAZAR E TÊXTIL  1259473  BERMUDA MOLETOM             2         201.17   \n",
       "\n",
       "   margem  \n",
       "0   22.43  \n",
       "1   11.90  \n",
       "2   11.10  \n",
       "3   22.93  \n",
       "4   46.37  "
      ]
     },
     "execution_count": 7,
     "metadata": {},
     "output_type": "execute_result"
    }
   ],
   "source": [
    "df.head()"
   ]
  },
  {
   "cell_type": "code",
   "execution_count": null,
   "id": "ca338d7e-4dcc-498c-a191-c9c54d8f96d1",
   "metadata": {},
   "outputs": [],
   "source": [
    "receita_bruta = valor de venda\n",
    "margem = lucro em cima da venda"
   ]
  },
  {
   "cell_type": "code",
   "execution_count": 12,
   "id": "f3832de0-7185-4205-afc0-026f27ca315b",
   "metadata": {},
   "outputs": [
    {
     "data": {
      "text/plain": [
       "periodo            object\n",
       "id_clube            int64\n",
       "socio               int64\n",
       "canal              object\n",
       "ticket             object\n",
       "departamento       object\n",
       "item_id             int64\n",
       "item_descricao     object\n",
       "item_unidade        int64\n",
       "receita_bruta     float64\n",
       "margem            float64\n",
       "dtype: object"
      ]
     },
     "execution_count": 12,
     "metadata": {},
     "output_type": "execute_result"
    }
   ],
   "source": [
    "df.dtypes"
   ]
  },
  {
   "cell_type": "code",
   "execution_count": 14,
   "id": "429a1195-4198-490b-9812-0f8269a196e1",
   "metadata": {},
   "outputs": [],
   "source": [
    "df['periodo'] = pd.to_datetime(df['periodo'])"
   ]
  },
  {
   "cell_type": "code",
   "execution_count": 15,
   "id": "8cce5a19-d36b-46d3-9562-7ac5ff48b95f",
   "metadata": {},
   "outputs": [
    {
     "data": {
      "text/plain": [
       "<DatetimeArray>\n",
       "['2022-01-10 00:00:00', '2022-01-11 00:00:00', '2022-01-12 00:00:00']\n",
       "Length: 3, dtype: datetime64[ns]"
      ]
     },
     "execution_count": 15,
     "metadata": {},
     "output_type": "execute_result"
    }
   ],
   "source": [
    "df['periodo'].unique()"
   ]
  },
  {
   "cell_type": "code",
   "execution_count": 9,
   "id": "96edd4fd-e235-42bd-bb90-d1a4cb3d5db0",
   "metadata": {},
   "outputs": [
    {
     "data": {
      "text/plain": [
       "periodo               3\n",
       "id_clube             42\n",
       "socio             71889\n",
       "canal                 2\n",
       "ticket            75378\n",
       "departamento          8\n",
       "item_id           10661\n",
       "item_descricao    10251\n",
       "item_unidade        143\n",
       "receita_bruta     16015\n",
       "margem            13799\n",
       "dtype: int64"
      ]
     },
     "execution_count": 9,
     "metadata": {},
     "output_type": "execute_result"
    }
   ],
   "source": [
    "df.nunique()"
   ]
  },
  {
   "cell_type": "code",
   "execution_count": 10,
   "id": "ebb1e481-9554-4bb7-bc6a-a5b7f594ea86",
   "metadata": {},
   "outputs": [
    {
     "data": {
      "text/plain": [
       "array(['PISO', 'ECOM'], dtype=object)"
      ]
     },
     "execution_count": 10,
     "metadata": {},
     "output_type": "execute_result"
    }
   ],
   "source": [
    "df['canal'].unique()"
   ]
  },
  {
   "cell_type": "code",
   "execution_count": 11,
   "id": "fa0a45a4-a931-49b9-a8db-417f5d85fc94",
   "metadata": {},
   "outputs": [
    {
     "data": {
      "text/plain": [
       "array(['BAZAR E TÊXTIL', 'BEBIDAS', 'PERECÍVEIS', 'MERCEARIA',\n",
       "       'HIGIENE E LIMPEZA', 'COMMODITIES', 'ELETRO', 'SERVICO DIGITAL'],\n",
       "      dtype=object)"
      ]
     },
     "execution_count": 11,
     "metadata": {},
     "output_type": "execute_result"
    }
   ],
   "source": [
    "df['departamento'].unique()"
   ]
  },
  {
   "cell_type": "code",
   "execution_count": 79,
   "id": "e4cdbc7e-4a48-4168-9f6a-af53ecd65f50",
   "metadata": {},
   "outputs": [],
   "source": [
    "df['%_lucro'] = (df['margem'] / df['receita_bruta']) * 100"
   ]
  },
  {
   "cell_type": "code",
   "execution_count": 81,
   "id": "aab557de-57ba-4ecb-bc48-1b60d8e5ad0d",
   "metadata": {},
   "outputs": [
    {
     "name": "stderr",
     "output_type": "stream",
     "text": [
      "/home/rafaelfabrichimidt/Documentos/Projetos/Python/codigos/case/analytics_engineer_carrefour/env/env/lib/python3.9/site-packages/pandas/core/nanops.py:1016: RuntimeWarning: invalid value encountered in subtract\n",
      "  sqr = _ensure_numeric((avg - values) ** 2)\n"
     ]
    },
    {
     "data": {
      "text/html": [
       "<div>\n",
       "<style scoped>\n",
       "    .dataframe tbody tr th:only-of-type {\n",
       "        vertical-align: middle;\n",
       "    }\n",
       "\n",
       "    .dataframe tbody tr th {\n",
       "        vertical-align: top;\n",
       "    }\n",
       "\n",
       "    .dataframe thead th {\n",
       "        text-align: right;\n",
       "    }\n",
       "</style>\n",
       "<table border=\"1\" class=\"dataframe\">\n",
       "  <thead>\n",
       "    <tr style=\"text-align: right;\">\n",
       "      <th></th>\n",
       "      <th>periodo</th>\n",
       "      <th>id_clube</th>\n",
       "      <th>socio</th>\n",
       "      <th>item_id</th>\n",
       "      <th>item_unidade</th>\n",
       "      <th>receita_bruta</th>\n",
       "      <th>margem</th>\n",
       "      <th>%_lucro</th>\n",
       "    </tr>\n",
       "  </thead>\n",
       "  <tbody>\n",
       "    <tr>\n",
       "      <th>count</th>\n",
       "      <td>878596</td>\n",
       "      <td>878596.000000</td>\n",
       "      <td>8.785960e+05</td>\n",
       "      <td>8.785960e+05</td>\n",
       "      <td>878596.000000</td>\n",
       "      <td>878596.000000</td>\n",
       "      <td>878596.000000</td>\n",
       "      <td>8.785960e+05</td>\n",
       "    </tr>\n",
       "    <tr>\n",
       "      <th>mean</th>\n",
       "      <td>2022-01-11 00:35:30.803235840</td>\n",
       "      <td>6308.761837</td>\n",
       "      <td>4.575835e+16</td>\n",
       "      <td>1.232072e+06</td>\n",
       "      <td>1.477983</td>\n",
       "      <td>32.646677</td>\n",
       "      <td>5.576704</td>\n",
       "      <td>inf</td>\n",
       "    </tr>\n",
       "    <tr>\n",
       "      <th>min</th>\n",
       "      <td>2022-01-10 00:00:00</td>\n",
       "      <td>5235.000000</td>\n",
       "      <td>4.574401e+16</td>\n",
       "      <td>1.215153e+06</td>\n",
       "      <td>-425.000000</td>\n",
       "      <td>-16781.880000</td>\n",
       "      <td>-9445.030000</td>\n",
       "      <td>-2.077101e+05</td>\n",
       "    </tr>\n",
       "    <tr>\n",
       "      <th>25%</th>\n",
       "      <td>2022-01-10 00:00:00</td>\n",
       "      <td>6059.000000</td>\n",
       "      <td>4.575210e+16</td>\n",
       "      <td>1.222549e+06</td>\n",
       "      <td>1.000000</td>\n",
       "      <td>11.360000</td>\n",
       "      <td>2.230000</td>\n",
       "      <td>1.589506e+01</td>\n",
       "    </tr>\n",
       "    <tr>\n",
       "      <th>50%</th>\n",
       "      <td>2022-01-11 00:00:00</td>\n",
       "      <td>6169.000000</td>\n",
       "      <td>4.575222e+16</td>\n",
       "      <td>1.230923e+06</td>\n",
       "      <td>1.000000</td>\n",
       "      <td>19.270000</td>\n",
       "      <td>4.110000</td>\n",
       "      <td>2.481256e+01</td>\n",
       "    </tr>\n",
       "    <tr>\n",
       "      <th>75%</th>\n",
       "      <td>2022-01-12 00:00:00</td>\n",
       "      <td>6183.000000</td>\n",
       "      <td>4.576510e+16</td>\n",
       "      <td>1.236365e+06</td>\n",
       "      <td>1.000000</td>\n",
       "      <td>33.360000</td>\n",
       "      <td>7.470000</td>\n",
       "      <td>3.226048e+01</td>\n",
       "    </tr>\n",
       "    <tr>\n",
       "      <th>max</th>\n",
       "      <td>2022-01-12 00:00:00</td>\n",
       "      <td>7780.000000</td>\n",
       "      <td>4.576610e+16</td>\n",
       "      <td>1.268287e+06</td>\n",
       "      <td>1092.000000</td>\n",
       "      <td>34006.250000</td>\n",
       "      <td>6291.290000</td>\n",
       "      <td>inf</td>\n",
       "    </tr>\n",
       "    <tr>\n",
       "      <th>std</th>\n",
       "      <td>NaN</td>\n",
       "      <td>665.253679</td>\n",
       "      <td>6.793028e+12</td>\n",
       "      <td>1.298008e+04</td>\n",
       "      <td>3.228101</td>\n",
       "      <td>110.421399</td>\n",
       "      <td>26.760466</td>\n",
       "      <td>NaN</td>\n",
       "    </tr>\n",
       "  </tbody>\n",
       "</table>\n",
       "</div>"
      ],
      "text/plain": [
       "                             periodo       id_clube         socio  \\\n",
       "count                         878596  878596.000000  8.785960e+05   \n",
       "mean   2022-01-11 00:35:30.803235840    6308.761837  4.575835e+16   \n",
       "min              2022-01-10 00:00:00    5235.000000  4.574401e+16   \n",
       "25%              2022-01-10 00:00:00    6059.000000  4.575210e+16   \n",
       "50%              2022-01-11 00:00:00    6169.000000  4.575222e+16   \n",
       "75%              2022-01-12 00:00:00    6183.000000  4.576510e+16   \n",
       "max              2022-01-12 00:00:00    7780.000000  4.576610e+16   \n",
       "std                              NaN     665.253679  6.793028e+12   \n",
       "\n",
       "            item_id   item_unidade  receita_bruta         margem       %_lucro  \n",
       "count  8.785960e+05  878596.000000  878596.000000  878596.000000  8.785960e+05  \n",
       "mean   1.232072e+06       1.477983      32.646677       5.576704           inf  \n",
       "min    1.215153e+06    -425.000000  -16781.880000   -9445.030000 -2.077101e+05  \n",
       "25%    1.222549e+06       1.000000      11.360000       2.230000  1.589506e+01  \n",
       "50%    1.230923e+06       1.000000      19.270000       4.110000  2.481256e+01  \n",
       "75%    1.236365e+06       1.000000      33.360000       7.470000  3.226048e+01  \n",
       "max    1.268287e+06    1092.000000   34006.250000    6291.290000           inf  \n",
       "std    1.298008e+04       3.228101     110.421399      26.760466           NaN  "
      ]
     },
     "execution_count": 81,
     "metadata": {},
     "output_type": "execute_result"
    }
   ],
   "source": [
    "df.describe()"
   ]
  },
  {
   "cell_type": "code",
   "execution_count": 78,
   "id": "b4fe0137-0fe9-40b7-9dea-41e153a5c82b",
   "metadata": {},
   "outputs": [
    {
     "data": {
      "text/plain": [
       "inf"
      ]
     },
     "execution_count": 78,
     "metadata": {},
     "output_type": "execute_result"
    }
   ],
   "source": [
    "df['%_lucro'].mean()"
   ]
  },
  {
   "cell_type": "code",
   "execution_count": 82,
   "id": "86c68a07-0cc3-4d99-b79e-60d6de639b9c",
   "metadata": {},
   "outputs": [
    {
     "data": {
      "image/png": "[encoded data removed]",
      "text/plain": [
       "<Figure size 1600x400 with 1 Axes>"
      ]
     },
     "metadata": {},
     "output_type": "display_data"
    }
   ],
   "source": [
    "fig, ax = plt.subplots(figsize = (16, 4))\n",
    "\n",
    "sns.boxplot(x = df['%_lucro'], ax = ax)\n",
    "\n",
    "fig.tight_layout()"
   ]
  },
  {
   "cell_type": "code",
   "execution_count": 68,
   "id": "44ec65aa-ab07-4860-870c-68f4b4730392",
   "metadata": {},
   "outputs": [
    {
     "data": {
      "text/plain": [
       "item_descricao\n",
       "SACOLA PLASTICA MM BRANCA              29174\n",
       "SACOLA PLASTICA MM CINZA                8214\n",
       "PAPEL TOALHA KITCHEN JUMB FD C360FL     7638\n",
       "SACOLA PLASTICA MM VERDE                7561\n",
       "CR DE LEITE PIRACANJUBA TP 200G         7320\n",
       "OLEO SOJA LIZA PET 900ML                6913\n",
       "CERV QUILMES CLASSICA LN 340ML          5891\n",
       "PAPEL REPORT MULT A4 BRANCO 500 F       5868\n",
       "ACUC REF UNIAO 1KG                      5658\n",
       "MM LAVA ROUPAS 5LTS ULTIMATE CLEAN      5272\n",
       "Name: item_unidade, dtype: int64"
      ]
     },
     "execution_count": 68,
     "metadata": {},
     "output_type": "execute_result"
    }
   ],
   "source": [
    "df.groupby(['item_descricao'])['item_unidade'].sum().sort_values(ascending = False)[0:10]"
   ]
  },
  {
   "cell_type": "code",
   "execution_count": 88,
   "id": "9e4d48f4-d1fd-4f4d-928f-db921fb67f76",
   "metadata": {},
   "outputs": [],
   "source": [
    "_10_maiores_items_em_qtd = df.groupby(['item_descricao'])['item_unidade'].sum().sort_values(ascending = False)[0:10].keys()"
   ]
  },
  {
   "cell_type": "code",
   "execution_count": 91,
   "id": "780271a9-bc9d-42f9-8276-eb32ebe80604",
   "metadata": {},
   "outputs": [
    {
     "data": {
      "image/png": "[encoded data removed]",
      "text/plain": [
       "<Figure size 1600x400 with 1 Axes>"
      ]
     },
     "metadata": {},
     "output_type": "display_data"
    }
   ],
   "source": [
    "df_aux = df[df['item_descricao'].isin(_10_maiores_items_em_qtd)]\n",
    "\n",
    "fig, ax = plt.subplots(figsize = (16, 4))\n",
    "\n",
    "sns.boxplot(x = df_aux['%_lucro'], y = df_aux['item_descricao'], ax = ax)\n",
    "\n",
    "fig.tight_layout()"
   ]
  },
  {
   "cell_type": "code",
   "execution_count": 92,
   "id": "acad3307-a57c-44aa-9b79-b3d389db0014",
   "metadata": {},
   "outputs": [
    {
     "data": {
      "text/plain": [
       "item_descricao\n",
       "ARCON 9000BTU LG EX Q/F INVERTER    182196.296296\n",
       "CAPSULAS ESPRESSO BRASILEIRO C10       100.000000\n",
       "PEPINO JAPONES BANDEJA 500G            100.000000\n",
       "PRIME MATURATTA                        100.000000\n",
       "VHO CATENA ROSE MALBEC 750ML           100.000000\n",
       "FRETE                                  100.000000\n",
       "ERVILHA BANDEJA 250G                   100.000000\n",
       "POLPA GOIABA POMAR 1KG                 100.000000\n",
       "ACELGA UNID                            100.000000\n",
       "VEJA LIMPEZA PESADA CLORO 1LT          100.000000\n",
       "Name: %_lucro, dtype: float64"
      ]
     },
     "execution_count": 92,
     "metadata": {},
     "output_type": "execute_result"
    }
   ],
   "source": [
    "df.groupby(['item_descricao'])['%_lucro'].median().sort_values(ascending = False)[0:10]"
   ]
  },
  {
   "cell_type": "code",
   "execution_count": 63,
   "id": "2ad624fc-caa7-473a-ba03-63001896b90a",
   "metadata": {},
   "outputs": [
    {
     "data": {
      "text/html": [
       "<div>\n",
       "<style scoped>\n",
       "    .dataframe tbody tr th:only-of-type {\n",
       "        vertical-align: middle;\n",
       "    }\n",
       "\n",
       "    .dataframe tbody tr th {\n",
       "        vertical-align: top;\n",
       "    }\n",
       "\n",
       "    .dataframe thead th {\n",
       "        text-align: right;\n",
       "    }\n",
       "</style>\n",
       "<table border=\"1\" class=\"dataframe\">\n",
       "  <thead>\n",
       "    <tr style=\"text-align: right;\">\n",
       "      <th></th>\n",
       "      <th>periodo</th>\n",
       "      <th>id_clube</th>\n",
       "      <th>socio</th>\n",
       "      <th>canal</th>\n",
       "      <th>ticket</th>\n",
       "      <th>departamento</th>\n",
       "      <th>item_id</th>\n",
       "      <th>item_descricao</th>\n",
       "      <th>item_unidade</th>\n",
       "      <th>receita_bruta</th>\n",
       "      <th>margem</th>\n",
       "      <th>%_lucro</th>\n",
       "    </tr>\n",
       "  </thead>\n",
       "  <tbody>\n",
       "    <tr>\n",
       "      <th>0</th>\n",
       "      <td>2022-01-10</td>\n",
       "      <td>5235</td>\n",
       "      <td>45765100809381908</td>\n",
       "      <td>PISO</td>\n",
       "      <td>4576510080938190820220110</td>\n",
       "      <td>BAZAR E TÊXTIL</td>\n",
       "      <td>1259475</td>\n",
       "      <td>CALCAO</td>\n",
       "      <td>2</td>\n",
       "      <td>81.17</td>\n",
       "      <td>22.43</td>\n",
       "      <td>0.276334</td>\n",
       "    </tr>\n",
       "    <tr>\n",
       "      <th>1</th>\n",
       "      <td>2022-01-10</td>\n",
       "      <td>5235</td>\n",
       "      <td>45766100903265726</td>\n",
       "      <td>PISO</td>\n",
       "      <td>4576610090326572620220110</td>\n",
       "      <td>BAZAR E TÊXTIL</td>\n",
       "      <td>1259475</td>\n",
       "      <td>CALCAO</td>\n",
       "      <td>1</td>\n",
       "      <td>41.27</td>\n",
       "      <td>11.90</td>\n",
       "      <td>0.288345</td>\n",
       "    </tr>\n",
       "    <tr>\n",
       "      <th>2</th>\n",
       "      <td>2022-01-10</td>\n",
       "      <td>5235</td>\n",
       "      <td>45765100815078019</td>\n",
       "      <td>PISO</td>\n",
       "      <td>4576510081507801920220110</td>\n",
       "      <td>BAZAR E TÊXTIL</td>\n",
       "      <td>1225017</td>\n",
       "      <td>CHAPEU PRAIA</td>\n",
       "      <td>1</td>\n",
       "      <td>51.27</td>\n",
       "      <td>11.10</td>\n",
       "      <td>0.216501</td>\n",
       "    </tr>\n",
       "    <tr>\n",
       "      <th>3</th>\n",
       "      <td>2022-01-10</td>\n",
       "      <td>5235</td>\n",
       "      <td>45766100904345030</td>\n",
       "      <td>PISO</td>\n",
       "      <td>4576610090434503020220110</td>\n",
       "      <td>BAZAR E TÊXTIL</td>\n",
       "      <td>1216504</td>\n",
       "      <td>BANCO DOBRAVEL</td>\n",
       "      <td>1</td>\n",
       "      <td>81.34</td>\n",
       "      <td>22.93</td>\n",
       "      <td>0.281903</td>\n",
       "    </tr>\n",
       "    <tr>\n",
       "      <th>4</th>\n",
       "      <td>2022-01-10</td>\n",
       "      <td>5235</td>\n",
       "      <td>45766100903286284</td>\n",
       "      <td>PISO</td>\n",
       "      <td>4576610090328628420220110</td>\n",
       "      <td>BAZAR E TÊXTIL</td>\n",
       "      <td>1259473</td>\n",
       "      <td>BERMUDA MOLETOM</td>\n",
       "      <td>2</td>\n",
       "      <td>201.17</td>\n",
       "      <td>46.37</td>\n",
       "      <td>0.230502</td>\n",
       "    </tr>\n",
       "  </tbody>\n",
       "</table>\n",
       "</div>"
      ],
      "text/plain": [
       "     periodo  id_clube              socio canal                     ticket  \\\n",
       "0 2022-01-10      5235  45765100809381908  PISO  4576510080938190820220110   \n",
       "1 2022-01-10      5235  45766100903265726  PISO  4576610090326572620220110   \n",
       "2 2022-01-10      5235  45765100815078019  PISO  4576510081507801920220110   \n",
       "3 2022-01-10      5235  45766100904345030  PISO  4576610090434503020220110   \n",
       "4 2022-01-10      5235  45766100903286284  PISO  4576610090328628420220110   \n",
       "\n",
       "     departamento  item_id   item_descricao  item_unidade  receita_bruta  \\\n",
       "0  BAZAR E TÊXTIL  1259475           CALCAO             2          81.17   \n",
       "1  BAZAR E TÊXTIL  1259475           CALCAO             1          41.27   \n",
       "2  BAZAR E TÊXTIL  1225017     CHAPEU PRAIA             1          51.27   \n",
       "3  BAZAR E TÊXTIL  1216504   BANCO DOBRAVEL             1          81.34   \n",
       "4  BAZAR E TÊXTIL  1259473  BERMUDA MOLETOM             2         201.17   \n",
       "\n",
       "   margem   %_lucro  \n",
       "0   22.43  0.276334  \n",
       "1   11.90  0.288345  \n",
       "2   11.10  0.216501  \n",
       "3   22.93  0.281903  \n",
       "4   46.37  0.230502  "
      ]
     },
     "execution_count": 63,
     "metadata": {},
     "output_type": "execute_result"
    }
   ],
   "source": [
    "df.head()"
   ]
  },
  {
   "cell_type": "code",
   "execution_count": 67,
   "id": "9986ff1c-0ec7-4769-8c7f-5b9e2aa3ed7c",
   "metadata": {},
   "outputs": [
    {
     "data": {
      "text/html": [
       "<div>\n",
       "<style scoped>\n",
       "    .dataframe tbody tr th:only-of-type {\n",
       "        vertical-align: middle;\n",
       "    }\n",
       "\n",
       "    .dataframe tbody tr th {\n",
       "        vertical-align: top;\n",
       "    }\n",
       "\n",
       "    .dataframe thead th {\n",
       "        text-align: right;\n",
       "    }\n",
       "</style>\n",
       "<table border=\"1\" class=\"dataframe\">\n",
       "  <thead>\n",
       "    <tr style=\"text-align: right;\">\n",
       "      <th></th>\n",
       "      <th>periodo</th>\n",
       "      <th>id_clube</th>\n",
       "      <th>socio</th>\n",
       "      <th>canal</th>\n",
       "      <th>ticket</th>\n",
       "      <th>departamento</th>\n",
       "      <th>item_id</th>\n",
       "      <th>item_descricao</th>\n",
       "      <th>item_unidade</th>\n",
       "      <th>receita_bruta</th>\n",
       "      <th>margem</th>\n",
       "      <th>%_lucro</th>\n",
       "    </tr>\n",
       "  </thead>\n",
       "  <tbody>\n",
       "    <tr>\n",
       "      <th>775836</th>\n",
       "      <td>2022-01-12</td>\n",
       "      <td>6175</td>\n",
       "      <td>45765100801936170</td>\n",
       "      <td>PISO</td>\n",
       "      <td>4576510080193617020220112</td>\n",
       "      <td>HIGIENE E LIMPEZA</td>\n",
       "      <td>1236279</td>\n",
       "      <td>SACOLA PLASTICA MM BRANCA</td>\n",
       "      <td>203</td>\n",
       "      <td>56.18</td>\n",
       "      <td>-7.46</td>\n",
       "      <td>-0.132787</td>\n",
       "    </tr>\n",
       "    <tr>\n",
       "      <th>794023</th>\n",
       "      <td>2022-01-12</td>\n",
       "      <td>6178</td>\n",
       "      <td>45752210201654456</td>\n",
       "      <td>PISO</td>\n",
       "      <td>4575221020165445620220112</td>\n",
       "      <td>HIGIENE E LIMPEZA</td>\n",
       "      <td>1236279</td>\n",
       "      <td>SACOLA PLASTICA MM BRANCA</td>\n",
       "      <td>100</td>\n",
       "      <td>27.97</td>\n",
       "      <td>-9.49</td>\n",
       "      <td>-0.339292</td>\n",
       "    </tr>\n",
       "    <tr>\n",
       "      <th>558596</th>\n",
       "      <td>2022-01-11</td>\n",
       "      <td>7700</td>\n",
       "      <td>45752100190570408</td>\n",
       "      <td>PISO</td>\n",
       "      <td>4575210019057040820220111</td>\n",
       "      <td>HIGIENE E LIMPEZA</td>\n",
       "      <td>1236279</td>\n",
       "      <td>SACOLA PLASTICA MM BRANCA</td>\n",
       "      <td>60</td>\n",
       "      <td>17.57</td>\n",
       "      <td>2.95</td>\n",
       "      <td>0.167900</td>\n",
       "    </tr>\n",
       "    <tr>\n",
       "      <th>162904</th>\n",
       "      <td>2022-01-10</td>\n",
       "      <td>6171</td>\n",
       "      <td>45752100219171238</td>\n",
       "      <td>PISO</td>\n",
       "      <td>4575210021917123820220110</td>\n",
       "      <td>HIGIENE E LIMPEZA</td>\n",
       "      <td>1236279</td>\n",
       "      <td>SACOLA PLASTICA MM BRANCA</td>\n",
       "      <td>60</td>\n",
       "      <td>17.57</td>\n",
       "      <td>-4.25</td>\n",
       "      <td>-0.241890</td>\n",
       "    </tr>\n",
       "    <tr>\n",
       "      <th>451908</th>\n",
       "      <td>2022-01-11</td>\n",
       "      <td>6171</td>\n",
       "      <td>45744100218753713</td>\n",
       "      <td>PISO</td>\n",
       "      <td>4574410021875371320220111</td>\n",
       "      <td>HIGIENE E LIMPEZA</td>\n",
       "      <td>1236279</td>\n",
       "      <td>SACOLA PLASTICA MM BRANCA</td>\n",
       "      <td>60</td>\n",
       "      <td>17.57</td>\n",
       "      <td>-4.24</td>\n",
       "      <td>-0.241320</td>\n",
       "    </tr>\n",
       "    <tr>\n",
       "      <th>208035</th>\n",
       "      <td>2022-01-10</td>\n",
       "      <td>6181</td>\n",
       "      <td>45752210220497275</td>\n",
       "      <td>PISO</td>\n",
       "      <td>4575221022049727520220110</td>\n",
       "      <td>HIGIENE E LIMPEZA</td>\n",
       "      <td>1236279</td>\n",
       "      <td>SACOLA PLASTICA MM BRANCA</td>\n",
       "      <td>60</td>\n",
       "      <td>17.57</td>\n",
       "      <td>2.52</td>\n",
       "      <td>0.143426</td>\n",
       "    </tr>\n",
       "    <tr>\n",
       "      <th>656252</th>\n",
       "      <td>2022-01-12</td>\n",
       "      <td>6091</td>\n",
       "      <td>45766100902898907</td>\n",
       "      <td>PISO</td>\n",
       "      <td>4576610090289890720220112</td>\n",
       "      <td>HIGIENE E LIMPEZA</td>\n",
       "      <td>1236279</td>\n",
       "      <td>SACOLA PLASTICA MM BRANCA</td>\n",
       "      <td>50</td>\n",
       "      <td>14.87</td>\n",
       "      <td>3.69</td>\n",
       "      <td>0.248151</td>\n",
       "    </tr>\n",
       "    <tr>\n",
       "      <th>441071</th>\n",
       "      <td>2022-01-11</td>\n",
       "      <td>6170</td>\n",
       "      <td>45752140195484399</td>\n",
       "      <td>PISO</td>\n",
       "      <td>4575214019548439920220111</td>\n",
       "      <td>HIGIENE E LIMPEZA</td>\n",
       "      <td>1236279</td>\n",
       "      <td>SACOLA PLASTICA MM BRANCA</td>\n",
       "      <td>50</td>\n",
       "      <td>14.87</td>\n",
       "      <td>-2.81</td>\n",
       "      <td>-0.188971</td>\n",
       "    </tr>\n",
       "    <tr>\n",
       "      <th>208052</th>\n",
       "      <td>2022-01-10</td>\n",
       "      <td>6181</td>\n",
       "      <td>45752100209120021</td>\n",
       "      <td>PISO</td>\n",
       "      <td>4575210020912002120220110</td>\n",
       "      <td>HIGIENE E LIMPEZA</td>\n",
       "      <td>1236279</td>\n",
       "      <td>SACOLA PLASTICA MM BRANCA</td>\n",
       "      <td>50</td>\n",
       "      <td>14.87</td>\n",
       "      <td>2.32</td>\n",
       "      <td>0.156019</td>\n",
       "    </tr>\n",
       "    <tr>\n",
       "      <th>406179</th>\n",
       "      <td>2022-01-11</td>\n",
       "      <td>6166</td>\n",
       "      <td>45752110203678396</td>\n",
       "      <td>PISO</td>\n",
       "      <td>4575211020367839620220111</td>\n",
       "      <td>HIGIENE E LIMPEZA</td>\n",
       "      <td>1236279</td>\n",
       "      <td>SACOLA PLASTICA MM BRANCA</td>\n",
       "      <td>50</td>\n",
       "      <td>14.87</td>\n",
       "      <td>2.69</td>\n",
       "      <td>0.180901</td>\n",
       "    </tr>\n",
       "  </tbody>\n",
       "</table>\n",
       "</div>"
      ],
      "text/plain": [
       "          periodo  id_clube              socio canal  \\\n",
       "775836 2022-01-12      6175  45765100801936170  PISO   \n",
       "794023 2022-01-12      6178  45752210201654456  PISO   \n",
       "558596 2022-01-11      7700  45752100190570408  PISO   \n",
       "162904 2022-01-10      6171  45752100219171238  PISO   \n",
       "451908 2022-01-11      6171  45744100218753713  PISO   \n",
       "208035 2022-01-10      6181  45752210220497275  PISO   \n",
       "656252 2022-01-12      6091  45766100902898907  PISO   \n",
       "441071 2022-01-11      6170  45752140195484399  PISO   \n",
       "208052 2022-01-10      6181  45752100209120021  PISO   \n",
       "406179 2022-01-11      6166  45752110203678396  PISO   \n",
       "\n",
       "                           ticket       departamento  item_id  \\\n",
       "775836  4576510080193617020220112  HIGIENE E LIMPEZA  1236279   \n",
       "794023  4575221020165445620220112  HIGIENE E LIMPEZA  1236279   \n",
       "558596  4575210019057040820220111  HIGIENE E LIMPEZA  1236279   \n",
       "162904  4575210021917123820220110  HIGIENE E LIMPEZA  1236279   \n",
       "451908  4574410021875371320220111  HIGIENE E LIMPEZA  1236279   \n",
       "208035  4575221022049727520220110  HIGIENE E LIMPEZA  1236279   \n",
       "656252  4576610090289890720220112  HIGIENE E LIMPEZA  1236279   \n",
       "441071  4575214019548439920220111  HIGIENE E LIMPEZA  1236279   \n",
       "208052  4575210020912002120220110  HIGIENE E LIMPEZA  1236279   \n",
       "406179  4575211020367839620220111  HIGIENE E LIMPEZA  1236279   \n",
       "\n",
       "                   item_descricao  item_unidade  receita_bruta  margem  \\\n",
       "775836  SACOLA PLASTICA MM BRANCA           203          56.18   -7.46   \n",
       "794023  SACOLA PLASTICA MM BRANCA           100          27.97   -9.49   \n",
       "558596  SACOLA PLASTICA MM BRANCA            60          17.57    2.95   \n",
       "162904  SACOLA PLASTICA MM BRANCA            60          17.57   -4.25   \n",
       "451908  SACOLA PLASTICA MM BRANCA            60          17.57   -4.24   \n",
       "208035  SACOLA PLASTICA MM BRANCA            60          17.57    2.52   \n",
       "656252  SACOLA PLASTICA MM BRANCA            50          14.87    3.69   \n",
       "441071  SACOLA PLASTICA MM BRANCA            50          14.87   -2.81   \n",
       "208052  SACOLA PLASTICA MM BRANCA            50          14.87    2.32   \n",
       "406179  SACOLA PLASTICA MM BRANCA            50          14.87    2.69   \n",
       "\n",
       "         %_lucro  \n",
       "775836 -0.132787  \n",
       "794023 -0.339292  \n",
       "558596  0.167900  \n",
       "162904 -0.241890  \n",
       "451908 -0.241320  \n",
       "208035  0.143426  \n",
       "656252  0.248151  \n",
       "441071 -0.188971  \n",
       "208052  0.156019  \n",
       "406179  0.180901  "
      ]
     },
     "execution_count": 67,
     "metadata": {},
     "output_type": "execute_result"
    }
   ],
   "source": [
    "df[df['item_descricao'] == 'SACOLA PLASTICA MM BRANCA'].sort_values(by = 'item_unidade', ascending = False).head(10)"
   ]
  },
  {
   "cell_type": "code",
   "execution_count": 58,
   "id": "1769a562-7bdd-4119-a065-e4c4a7b95572",
   "metadata": {},
   "outputs": [
    {
     "data": {
      "text/plain": [
       "28683239.96"
      ]
     },
     "execution_count": 58,
     "metadata": {},
     "output_type": "execute_result"
    }
   ],
   "source": [
    "round(df['receita_bruta'].sum(),2)\n"
   ]
  },
  {
   "cell_type": "code",
   "execution_count": 57,
   "id": "e78b6e12-c57d-4c8f-aa44-06f59dd72cd6",
   "metadata": {},
   "outputs": [
    {
     "data": {
      "text/plain": [
       "4899669.54"
      ]
     },
     "execution_count": 57,
     "metadata": {},
     "output_type": "execute_result"
    }
   ],
   "source": [
    "round(df['margem'].sum(), 2)"
   ]
  },
  {
   "cell_type": "code",
   "execution_count": 59,
   "id": "03a6af1c-8198-4585-bb41-65b08c0afe98",
   "metadata": {},
   "outputs": [
    {
     "data": {
      "text/plain": [
       "33582909.5"
      ]
     },
     "execution_count": 59,
     "metadata": {},
     "output_type": "execute_result"
    }
   ],
   "source": [
    "round(df['receita_bruta'].sum(),2) + round(df['margem'].sum(), 2)"
   ]
  },
  {
   "cell_type": "code",
   "execution_count": 43,
   "id": "729857a3-1d01-47e1-85ca-7651395a55cd",
   "metadata": {},
   "outputs": [
    {
     "data": {
      "text/plain": [
       "id_clube\n",
       "6170    56205\n",
       "6172    56095\n",
       "7500    51878\n",
       "6177    47321\n",
       "6059    45954\n",
       "6164    44998\n",
       "5649    44741\n",
       "6163    41847\n",
       "6171    41055\n",
       "6166    40607\n",
       "Name: item_unidade, dtype: int64"
      ]
     },
     "execution_count": 43,
     "metadata": {},
     "output_type": "execute_result"
    }
   ],
   "source": [
    "df.groupby(['id_clu'])['item_unidade'].sum().sort_values(ascending = False)[0:10]"
   ]
  },
  {
   "cell_type": "code",
   "execution_count": 25,
   "id": "f852cd7a-4087-4249-80c4-0e9f3f79b719",
   "metadata": {},
   "outputs": [
    {
     "data": {
      "text/plain": [
       "item_descricao\n",
       "SACOLA PLASTICA MM BRANCA              29174\n",
       "SACOLA PLASTICA MM CINZA                8214\n",
       "PAPEL TOALHA KITCHEN JUMB FD C360FL     7638\n",
       "SACOLA PLASTICA MM VERDE                7561\n",
       "CR DE LEITE PIRACANJUBA TP 200G         7320\n",
       "OLEO SOJA LIZA PET 900ML                6913\n",
       "CERV QUILMES CLASSICA LN 340ML          5891\n",
       "PAPEL REPORT MULT A4 BRANCO 500 F       5868\n",
       "ACUC REF UNIAO 1KG                      5658\n",
       "MM LAVA ROUPAS 5LTS ULTIMATE CLEAN      5272\n",
       "Name: item_unidade, dtype: int64"
      ]
     },
     "execution_count": 25,
     "metadata": {},
     "output_type": "execute_result"
    }
   ],
   "source": [
    "df.groupby(['item_descricao'])['item_unidade'].sum().sort_values(ascending = False)[0:10]"
   ]
  },
  {
   "cell_type": "code",
   "execution_count": 51,
   "id": "eb57ad96-f39c-476c-814f-63afece023cd",
   "metadata": {},
   "outputs": [
    {
     "data": {
      "text/plain": [
       "array(['BANCO DOBRAVEL', 'GIN APOGEE 1 L', 'CAMISETA ALGODAO',\n",
       "       'ESCOVA SANITARIA', 'VESTIDO MC MENINA', 'CERV SKOL 12X473ML',\n",
       "       'GIN HENDRICKS 750ML', 'AG MIN INDAIA S/G 5L',\n",
       "       'CERV BRAHMA 12X473ML', 'COLETE PIRATA PIRATA',\n",
       "       'KIT 3 CUECAS SLIP GG', 'MACACAO CURTO MENINA',\n",
       "       'MARTINI BIANCO 750ML', 'POLO LEVIS MASCULINA',\n",
       "       'TAPETE CHENILE BANHO', 'TRAVESSEIRO 400 FIOS',\n",
       "       'CAMISETA MC ESTAMPADA', 'CERV DEVASSA 12X350ML',\n",
       "       'CERV SKOL LT 12X350ML', 'CONHAQUE DREHER 900ML',\n",
       "       'CONJ 8 POTES DE VIDRO', 'DRY GIN GORDONS 750ML',\n",
       "       'KIT CHURRASCO 5 PECAS', 'MESA REDONDA DOBRAVEL',\n",
       "       'PACK CANETAS 18 PECAS', 'SHORTS JEANS LK LEVIS',\n",
       "       'AFIADOR DE FACAS OSTER', 'APERITIVO APEROL 750ML',\n",
       "       'BANCO PARA BAR MENDOZA', 'CERV CORONA LN 6X330ML',\n",
       "       'CERV PETRA AURUM 500ML', 'CJ 6 TACAS VINHO 580ML',\n",
       "       'COLCHAO INFLAVEL QUEEN', 'CONJ 2 PECAS MC MENINO',\n",
       "       'TRAVESSEIRO NASA CLEAN', 'BERMUDA JEANS MASCULINA',\n",
       "       'CADEIRA EXECUTIVA SERTA', 'CERV AMSTEL LT 12X350ML',\n",
       "       'CONJ DE UTENSILIOS 6PCS', 'KIT DE CANETAS 20 PECAS',\n",
       "       'MACACAO MC CALCA MENINO', 'PACK 3 BODIES MC MENINA',\n",
       "       'PACK 3 BODIES MC MENINO', 'PACK 4 BODIES MC MENINO',\n",
       "       'REGATA FITNESS FEMININO', 'RELOGIO DE PAREDE DALAS',\n",
       "       'SHORTS FITNESS FEMININO', 'TAPETE CHENILE COLORIDO',\n",
       "       'TAPETE INFANTIL TUBARAO', '2 JGS LENCOIS 300F CASAL'],\n",
       "      dtype=object)"
      ]
     },
     "execution_count": 51,
     "metadata": {},
     "output_type": "execute_result"
    }
   ],
   "source": [
    "df[df['id_clube'] == 6170]['item_descricao'].unique()[0:50]"
   ]
  },
  {
   "cell_type": "code",
   "execution_count": null,
   "id": "c8270f24-8a38-4035-a98f-fd7c4f8f0ff8",
   "metadata": {},
   "outputs": [],
   "source": []
  },
  {
   "cell_type": "code",
   "execution_count": 38,
   "id": "cf5e7b5a-38f5-4dc1-a6d7-a8601ff48b2f",
   "metadata": {},
   "outputs": [
    {
     "data": {
      "text/plain": [
       "array(['SACOLA PLASTICA MM BRANCA', 'SACOLA TERMICA 10KG METRAPACK',\n",
       "       'SACOLA TERMICA LK 52 LATAS SOFT', 'SACOLA PLASTICA MM CINZA',\n",
       "       'SACOLA PLASTICA MM VERDE', 'SACOLA MARSHMALLOW NATAL 550G GALAX',\n",
       "       'SACOLA BIODEGRADAVEL MEMBERS MARK', 'SACOLA TERMICA 52 LATAS'],\n",
       "      dtype=object)"
      ]
     },
     "execution_count": 38,
     "metadata": {},
     "output_type": "execute_result"
    }
   ],
   "source": [
    "df[df['item_descricao'].str.contains('SACOLA')]['item_descricao'].unique()"
   ]
  },
  {
   "cell_type": "code",
   "execution_count": 40,
   "id": "73d21698-9df0-4ec0-9da0-293dca4a87a4",
   "metadata": {},
   "outputs": [
    {
     "data": {
      "text/plain": [
       "array([1236279, 1215743, 1216883, 1215745, 1215744, 1239372, 1215746,\n",
       "       1216902])"
      ]
     },
     "execution_count": 40,
     "metadata": {},
     "output_type": "execute_result"
    }
   ],
   "source": [
    "df[df['item_descricao'].str.contains('SACOLA')]['item_id'].unique()"
   ]
  },
  {
   "cell_type": "code",
   "execution_count": 42,
   "id": "c9307418-b466-4c96-ac47-bc6385d3e190",
   "metadata": {},
   "outputs": [
    {
     "data": {
      "text/plain": [
       "0         45765100809381908\n",
       "1         45766100903265726\n",
       "2         45765100815078019\n",
       "3         45766100904345030\n",
       "4         45766100903286284\n",
       "                ...        \n",
       "878591    45752200200689222\n",
       "878592    45752100207181231\n",
       "878593    45765100803107283\n",
       "878594    45752220207119702\n",
       "878595    45752100210188207\n",
       "Name: socio, Length: 878596, dtype: int64"
      ]
     },
     "execution_count": 42,
     "metadata": {},
     "output_type": "execute_result"
    }
   ],
   "source": [
    "df['socio']"
   ]
  },
  {
   "cell_type": "code",
   "execution_count": 33,
   "id": "7da7bfe7-643f-4f64-90af-204f0d693293",
   "metadata": {},
   "outputs": [
    {
     "ename": "SyntaxError",
     "evalue": "unmatched ']' (2361737631.py, line 1)",
     "output_type": "error",
     "traceback": [
      "\u001b[0;36m  Cell \u001b[0;32mIn[33], line 1\u001b[0;36m\u001b[0m\n\u001b[0;31m    df['item_descricao'].str.contains('CR DE LEITE')]['item_descricao'].unique()\u001b[0m\n\u001b[0m                                                    ^\u001b[0m\n\u001b[0;31mSyntaxError\u001b[0m\u001b[0;31m:\u001b[0m unmatched ']'\n"
     ]
    }
   ],
   "source": [
    "df['item_descricao'].str.contains('CR DE LEITE')]['item_descricao'].unique()"
   ]
  },
  {
   "cell_type": "code",
   "execution_count": 2,
   "id": "129e03b7-c7d0-44d3-a128-7b5e1ac37f92",
   "metadata": {},
   "outputs": [
    {
     "name": "stdout",
     "output_type": "stream",
     "text": [
      "Collecting pyarrow\n",
      "  Downloading pyarrow-15.0.0-cp39-cp39-manylinux_2_28_x86_64.whl.metadata (3.0 kB)\n",
      "Requirement already satisfied: numpy<2,>=1.16.6 in /home/rafaelfabrichimidt/Documentos/Projetos/Python/codigos/case/analytics_engineer_carrefour/env/env/lib/python3.9/site-packages (from pyarrow) (1.26.4)\n",
      "Downloading pyarrow-15.0.0-cp39-cp39-manylinux_2_28_x86_64.whl (38.3 MB)\n",
      "\u001b[2K   \u001b[38;2;114;156;31m━━━━━━━━━━━━━━━━━━━━━━━━━━━━━━━━━━━━━━━━\u001b[0m \u001b[32m38.3/38.3 MB\u001b[0m \u001b[31m7.9 MB/s\u001b[0m eta \u001b[36m0:00:00\u001b[0m0m eta \u001b[36m0:00:01\u001b[0m[36m0:00:01\u001b[0m\n",
      "\u001b[?25hInstalling collected packages: pyarrow\n",
      "Successfully installed pyarrow-15.0.0\n",
      "Note: you may need to restart the kernel to use updated packages.\n"
     ]
    }
   ],
   "source": [
    "pip install pyarrow"
   ]
  }
 ],
 "metadata": {
  "kernelspec": {
   "display_name": "Python 3 (ipykernel)",
   "language": "python",
   "name": "python3"
  },
  "language_info": {
   "codemirror_mode": {
    "name": "ipython",
    "version": 3
   },
   "file_extension": ".py",
   "mimetype": "text/x-python",
   "name": "python",
   "nbconvert_exporter": "python",
   "pygments_lexer": "ipython3",
   "version": "3.9.18"
  }
 },
 "nbformat": 4,
 "nbformat_minor": 5
}
